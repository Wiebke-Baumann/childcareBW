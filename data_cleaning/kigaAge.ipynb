{
 "cells": [
  {
   "cell_type": "code",
   "execution_count": 13,
   "metadata": {},
   "outputs": [],
   "source": [
    "import pandas as pd \n",
    "import geopandas as gpd\n",
    "import math"
   ]
  },
  {
   "attachments": {},
   "cell_type": "markdown",
   "metadata": {},
   "source": [
    "Assumtion calculated from the birth rate statistics:\n",
    "53% of all children under the age of 10 are between 1 and 6 and therefore might visit a nursery or kindergarten"
   ]
  },
  {
   "cell_type": "code",
   "execution_count": 11,
   "metadata": {},
   "outputs": [],
   "source": [
    "bev = gpd.read_file(\"bev1kmF.geojson\")\n",
    "percent= 53\n",
    "bev['kiga_age'] = bev.apply(lambda row: math.ceil(row.ALTER_10JG *(percent/100)), axis=1)"
   ]
  },
  {
   "cell_type": "code",
   "execution_count": 17,
   "metadata": {},
   "outputs": [],
   "source": [
    "bev.to_file(\"population.geojson\", driver='GeoJSON')"
   ]
  },
  {
   "cell_type": "code",
   "execution_count": 15,
   "metadata": {},
   "outputs": [
    {
     "data": {
      "text/html": [
       "<div>\n",
       "<style scoped>\n",
       "    .dataframe tbody tr th:only-of-type {\n",
       "        vertical-align: middle;\n",
       "    }\n",
       "\n",
       "    .dataframe tbody tr th {\n",
       "        vertical-align: top;\n",
       "    }\n",
       "\n",
       "    .dataframe thead th {\n",
       "        text-align: right;\n",
       "    }\n",
       "</style>\n",
       "<table border=\"1\" class=\"dataframe\">\n",
       "  <thead>\n",
       "    <tr style=\"text-align: right;\">\n",
       "      <th></th>\n",
       "      <th>ID_1km</th>\n",
       "      <th>ALTER_10JG</th>\n",
       "      <th>INSGESAMT</th>\n",
       "      <th>geometry</th>\n",
       "      <th>kiga_age</th>\n",
       "    </tr>\n",
       "  </thead>\n",
       "  <tbody>\n",
       "    <tr>\n",
       "      <th>0</th>\n",
       "      <td>1kmN2716E4145</td>\n",
       "      <td>3.0</td>\n",
       "      <td>14.0</td>\n",
       "      <td>POLYGON ((7.66372 47.53262, 7.66331 47.54161, ...</td>\n",
       "      <td>2</td>\n",
       "    </tr>\n",
       "    <tr>\n",
       "      <th>1</th>\n",
       "      <td>1kmN2716E4146</td>\n",
       "      <td>52.0</td>\n",
       "      <td>351.0</td>\n",
       "      <td>POLYGON ((7.67699 47.53290, 7.67658 47.54190, ...</td>\n",
       "      <td>28</td>\n",
       "    </tr>\n",
       "    <tr>\n",
       "      <th>2</th>\n",
       "      <td>1kmN2716E4147</td>\n",
       "      <td>31.0</td>\n",
       "      <td>161.0</td>\n",
       "      <td>POLYGON ((7.69025 47.53318, 7.68985 47.54218, ...</td>\n",
       "      <td>17</td>\n",
       "    </tr>\n",
       "    <tr>\n",
       "      <th>3</th>\n",
       "      <td>1kmN2716E4148</td>\n",
       "      <td>21.0</td>\n",
       "      <td>109.0</td>\n",
       "      <td>POLYGON ((7.70352 47.53346, 7.70312 47.54246, ...</td>\n",
       "      <td>12</td>\n",
       "    </tr>\n",
       "    <tr>\n",
       "      <th>4</th>\n",
       "      <td>1kmN2717E4143</td>\n",
       "      <td>0.0</td>\n",
       "      <td>0.0</td>\n",
       "      <td>POLYGON ((7.63678 47.54104, 7.63636 47.55004, ...</td>\n",
       "      <td>0</td>\n",
       "    </tr>\n",
       "  </tbody>\n",
       "</table>\n",
       "</div>"
      ],
      "text/plain": [
       "          ID_1km  ALTER_10JG  INSGESAMT  \\\n",
       "0  1kmN2716E4145         3.0       14.0   \n",
       "1  1kmN2716E4146        52.0      351.0   \n",
       "2  1kmN2716E4147        31.0      161.0   \n",
       "3  1kmN2716E4148        21.0      109.0   \n",
       "4  1kmN2717E4143         0.0        0.0   \n",
       "\n",
       "                                            geometry  kiga_age  \n",
       "0  POLYGON ((7.66372 47.53262, 7.66331 47.54161, ...         2  \n",
       "1  POLYGON ((7.67699 47.53290, 7.67658 47.54190, ...        28  \n",
       "2  POLYGON ((7.69025 47.53318, 7.68985 47.54218, ...        17  \n",
       "3  POLYGON ((7.70352 47.53346, 7.70312 47.54246, ...        12  \n",
       "4  POLYGON ((7.63678 47.54104, 7.63636 47.55004, ...         0  "
      ]
     },
     "execution_count": 15,
     "metadata": {},
     "output_type": "execute_result"
    }
   ],
   "source": [
    "bev.head()"
   ]
  },
  {
   "cell_type": "code",
   "execution_count": 16,
   "metadata": {},
   "outputs": [
    {
     "name": "stdout",
     "output_type": "stream",
     "text": [
      "count    36424.000000\n",
      "mean        23.081897\n",
      "std         52.641574\n",
      "min          0.000000\n",
      "25%          0.000000\n",
      "50%          2.000000\n",
      "75%         19.000000\n",
      "max        773.000000\n",
      "Name: kiga_age, dtype: float64\n",
      "count    36424.000000\n",
      "mean        43.005409\n",
      "std         99.150336\n",
      "min          0.000000\n",
      "25%          0.000000\n",
      "50%          3.000000\n",
      "75%         35.000000\n",
      "max       1457.000000\n",
      "Name: ALTER_10JG, dtype: float64\n"
     ]
    }
   ],
   "source": [
    "print(bev['kiga_age'].describe())\n",
    "print(bev[\"ALTER_10JG\"].describe())\n"
   ]
  }
 ],
 "metadata": {
  "kernelspec": {
   "display_name": "Python 3",
   "language": "python",
   "name": "python3"
  },
  "language_info": {
   "codemirror_mode": {
    "name": "ipython",
    "version": 3
   },
   "file_extension": ".py",
   "mimetype": "text/x-python",
   "name": "python",
   "nbconvert_exporter": "python",
   "pygments_lexer": "ipython3",
   "version": "3.11.1 (v3.11.1:a7a450f84a, Dec  6 2022, 15:24:06) [Clang 13.0.0 (clang-1300.0.29.30)]"
  },
  "orig_nbformat": 4,
  "vscode": {
   "interpreter": {
    "hash": "aee8b7b246df8f9039afb4144a1f6fd8d2ca17a180786b69acc140d282b71a49"
   }
  }
 },
 "nbformat": 4,
 "nbformat_minor": 2
}
