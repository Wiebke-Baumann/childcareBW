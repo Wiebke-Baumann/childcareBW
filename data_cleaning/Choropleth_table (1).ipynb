{
 "cells": [
  {
   "cell_type": "code",
   "execution_count": 67,
   "metadata": {},
   "outputs": [],
   "source": [
    "import pandas as pd \n",
    "import geopandas as gpd\n",
    "from tqdm.notebook import tqdm"
   ]
  },
  {
   "cell_type": "code",
   "execution_count": 95,
   "metadata": {},
   "outputs": [],
   "source": [
    "# import datasets\n",
    "gridData = gpd.read_file(r\"C:\\Users\\nelek\\OneDrive\\Dokumente\\Uni\\Master\\3. Semester\\GIS\\Project\\Datasets\\Grid_data_Wiebke\\childcareBW-main\\bev1kmF.geojson\")\n",
    "\n",
    "kindergartens = gpd.read_file(r\"C:\\Users\\nelek\\OneDrive\\Dokumente\\Uni\\Master\\3. Semester\\GIS\\Project\\Datasets\\combined_dataset_kindergartens.geojson\")\n"
   ]
  },
  {
   "cell_type": "code",
   "execution_count": 96,
   "metadata": {},
   "outputs": [
    {
     "data": {
      "text/html": [
       "<div>\n",
       "<style scoped>\n",
       "    .dataframe tbody tr th:only-of-type {\n",
       "        vertical-align: middle;\n",
       "    }\n",
       "\n",
       "    .dataframe tbody tr th {\n",
       "        vertical-align: top;\n",
       "    }\n",
       "\n",
       "    .dataframe thead th {\n",
       "        text-align: right;\n",
       "    }\n",
       "</style>\n",
       "<table border=\"1\" class=\"dataframe\">\n",
       "  <thead>\n",
       "    <tr style=\"text-align: right;\">\n",
       "      <th></th>\n",
       "      <th>ID_1km</th>\n",
       "      <th>ALTER_10JG</th>\n",
       "      <th>INSGESAMT</th>\n",
       "      <th>geometry</th>\n",
       "    </tr>\n",
       "  </thead>\n",
       "  <tbody>\n",
       "    <tr>\n",
       "      <th>0</th>\n",
       "      <td>1kmN2716E4145</td>\n",
       "      <td>3.0</td>\n",
       "      <td>14.0</td>\n",
       "      <td>POLYGON ((7.66372 47.53262, 7.66331 47.54161, ...</td>\n",
       "    </tr>\n",
       "    <tr>\n",
       "      <th>1</th>\n",
       "      <td>1kmN2716E4146</td>\n",
       "      <td>52.0</td>\n",
       "      <td>351.0</td>\n",
       "      <td>POLYGON ((7.67699 47.53290, 7.67658 47.54190, ...</td>\n",
       "    </tr>\n",
       "    <tr>\n",
       "      <th>2</th>\n",
       "      <td>1kmN2716E4147</td>\n",
       "      <td>31.0</td>\n",
       "      <td>161.0</td>\n",
       "      <td>POLYGON ((7.69025 47.53318, 7.68985 47.54218, ...</td>\n",
       "    </tr>\n",
       "    <tr>\n",
       "      <th>3</th>\n",
       "      <td>1kmN2716E4148</td>\n",
       "      <td>21.0</td>\n",
       "      <td>109.0</td>\n",
       "      <td>POLYGON ((7.70352 47.53346, 7.70312 47.54246, ...</td>\n",
       "    </tr>\n",
       "    <tr>\n",
       "      <th>4</th>\n",
       "      <td>1kmN2717E4143</td>\n",
       "      <td>0.0</td>\n",
       "      <td>0.0</td>\n",
       "      <td>POLYGON ((7.63678 47.54104, 7.63636 47.55004, ...</td>\n",
       "    </tr>\n",
       "  </tbody>\n",
       "</table>\n",
       "</div>"
      ],
      "text/plain": [
       "          ID_1km  ALTER_10JG  INSGESAMT  \\\n",
       "0  1kmN2716E4145         3.0       14.0   \n",
       "1  1kmN2716E4146        52.0      351.0   \n",
       "2  1kmN2716E4147        31.0      161.0   \n",
       "3  1kmN2716E4148        21.0      109.0   \n",
       "4  1kmN2717E4143         0.0        0.0   \n",
       "\n",
       "                                            geometry  \n",
       "0  POLYGON ((7.66372 47.53262, 7.66331 47.54161, ...  \n",
       "1  POLYGON ((7.67699 47.53290, 7.67658 47.54190, ...  \n",
       "2  POLYGON ((7.69025 47.53318, 7.68985 47.54218, ...  \n",
       "3  POLYGON ((7.70352 47.53346, 7.70312 47.54246, ...  \n",
       "4  POLYGON ((7.63678 47.54104, 7.63636 47.55004, ...  "
      ]
     },
     "execution_count": 96,
     "metadata": {},
     "output_type": "execute_result"
    }
   ],
   "source": [
    "gridData.head()"
   ]
  },
  {
   "cell_type": "code",
   "execution_count": 97,
   "metadata": {},
   "outputs": [
    {
     "data": {
      "text/html": [
       "<div>\n",
       "<style scoped>\n",
       "    .dataframe tbody tr th:only-of-type {\n",
       "        vertical-align: middle;\n",
       "    }\n",
       "\n",
       "    .dataframe tbody tr th {\n",
       "        vertical-align: top;\n",
       "    }\n",
       "\n",
       "    .dataframe thead th {\n",
       "        text-align: right;\n",
       "    }\n",
       "</style>\n",
       "<table border=\"1\" class=\"dataframe\">\n",
       "  <thead>\n",
       "    <tr style=\"text-align: right;\">\n",
       "      <th></th>\n",
       "      <th>id</th>\n",
       "      <th>amenity</th>\n",
       "      <th>name</th>\n",
       "      <th>geometry</th>\n",
       "    </tr>\n",
       "  </thead>\n",
       "  <tbody>\n",
       "    <tr>\n",
       "      <th>0</th>\n",
       "      <td>node/25236153</td>\n",
       "      <td>kindergarten</td>\n",
       "      <td>Kindertagesstätte Pittiplatsch</td>\n",
       "      <td>POINT (8.40817 48.99901)</td>\n",
       "    </tr>\n",
       "    <tr>\n",
       "      <th>1</th>\n",
       "      <td>node/25243038</td>\n",
       "      <td>kindergarten</td>\n",
       "      <td>Kindergarten</td>\n",
       "      <td>POINT (8.37754 48.98666)</td>\n",
       "    </tr>\n",
       "    <tr>\n",
       "      <th>2</th>\n",
       "      <td>node/29793990</td>\n",
       "      <td>kindergarten</td>\n",
       "      <td>AWO-Kindertagesstätte Wiesenzwerg</td>\n",
       "      <td>POINT (8.40212 48.95010)</td>\n",
       "    </tr>\n",
       "    <tr>\n",
       "      <th>3</th>\n",
       "      <td>node/98071320</td>\n",
       "      <td>kindergarten</td>\n",
       "      <td>Kindertagesstätte Bernstein</td>\n",
       "      <td>POINT (8.35345 48.99722)</td>\n",
       "    </tr>\n",
       "    <tr>\n",
       "      <th>4</th>\n",
       "      <td>node/107597357</td>\n",
       "      <td>kindergarten</td>\n",
       "      <td>Birkenweg</td>\n",
       "      <td>POINT (9.10157 49.00583)</td>\n",
       "    </tr>\n",
       "  </tbody>\n",
       "</table>\n",
       "</div>"
      ],
      "text/plain": [
       "               id       amenity                               name  \\\n",
       "0   node/25236153  kindergarten     Kindertagesstätte Pittiplatsch   \n",
       "1   node/25243038  kindergarten                       Kindergarten   \n",
       "2   node/29793990  kindergarten  AWO-Kindertagesstätte Wiesenzwerg   \n",
       "3   node/98071320  kindergarten        Kindertagesstätte Bernstein   \n",
       "4  node/107597357  kindergarten                          Birkenweg   \n",
       "\n",
       "                   geometry  \n",
       "0  POINT (8.40817 48.99901)  \n",
       "1  POINT (8.37754 48.98666)  \n",
       "2  POINT (8.40212 48.95010)  \n",
       "3  POINT (8.35345 48.99722)  \n",
       "4  POINT (9.10157 49.00583)  "
      ]
     },
     "execution_count": 97,
     "metadata": {},
     "output_type": "execute_result"
    }
   ],
   "source": [
    "kindergartens.head()"
   ]
  },
  {
   "cell_type": "code",
   "execution_count": 98,
   "metadata": {},
   "outputs": [
    {
     "data": {
      "text/html": [
       "<div>\n",
       "<style scoped>\n",
       "    .dataframe tbody tr th:only-of-type {\n",
       "        vertical-align: middle;\n",
       "    }\n",
       "\n",
       "    .dataframe tbody tr th {\n",
       "        vertical-align: top;\n",
       "    }\n",
       "\n",
       "    .dataframe thead th {\n",
       "        text-align: right;\n",
       "    }\n",
       "</style>\n",
       "<table border=\"1\" class=\"dataframe\">\n",
       "  <thead>\n",
       "    <tr style=\"text-align: right;\">\n",
       "      <th></th>\n",
       "      <th>id</th>\n",
       "      <th>amenity</th>\n",
       "      <th>name</th>\n",
       "      <th>geometry</th>\n",
       "      <th>buffer</th>\n",
       "    </tr>\n",
       "  </thead>\n",
       "  <tbody>\n",
       "    <tr>\n",
       "      <th>0</th>\n",
       "      <td>node/25236153</td>\n",
       "      <td>kindergarten</td>\n",
       "      <td>Kindertagesstätte Pittiplatsch</td>\n",
       "      <td>POINT (8.40817 48.99901)</td>\n",
       "      <td>POLYGON ((8.47647 48.99996, 8.47627 48.99555, ...</td>\n",
       "    </tr>\n",
       "    <tr>\n",
       "      <th>1</th>\n",
       "      <td>node/25243038</td>\n",
       "      <td>kindergarten</td>\n",
       "      <td>Kindergarten</td>\n",
       "      <td>POINT (8.37754 48.98666)</td>\n",
       "      <td>POLYGON ((8.44582 48.98763, 8.44563 48.98322, ...</td>\n",
       "    </tr>\n",
       "    <tr>\n",
       "      <th>2</th>\n",
       "      <td>node/29793990</td>\n",
       "      <td>kindergarten</td>\n",
       "      <td>AWO-Kindertagesstätte Wiesenzwerg</td>\n",
       "      <td>POINT (8.40212 48.95010)</td>\n",
       "      <td>POLYGON ((8.47035 48.95106, 8.47016 48.94665, ...</td>\n",
       "    </tr>\n",
       "    <tr>\n",
       "      <th>3</th>\n",
       "      <td>node/98071320</td>\n",
       "      <td>kindergarten</td>\n",
       "      <td>Kindertagesstätte Bernstein</td>\n",
       "      <td>POINT (8.35345 48.99722)</td>\n",
       "      <td>POLYGON ((8.42174 48.99820, 8.42156 48.99379, ...</td>\n",
       "    </tr>\n",
       "    <tr>\n",
       "      <th>4</th>\n",
       "      <td>node/107597357</td>\n",
       "      <td>kindergarten</td>\n",
       "      <td>Birkenweg</td>\n",
       "      <td>POINT (9.10157 49.00583)</td>\n",
       "      <td>POLYGON ((9.16989 49.00636, 9.16964 49.00195, ...</td>\n",
       "    </tr>\n",
       "  </tbody>\n",
       "</table>\n",
       "</div>"
      ],
      "text/plain": [
       "               id       amenity                               name  \\\n",
       "0   node/25236153  kindergarten     Kindertagesstätte Pittiplatsch   \n",
       "1   node/25243038  kindergarten                       Kindergarten   \n",
       "2   node/29793990  kindergarten  AWO-Kindertagesstätte Wiesenzwerg   \n",
       "3   node/98071320  kindergarten        Kindertagesstätte Bernstein   \n",
       "4  node/107597357  kindergarten                          Birkenweg   \n",
       "\n",
       "                   geometry                                             buffer  \n",
       "0  POINT (8.40817 48.99901)  POLYGON ((8.47647 48.99996, 8.47627 48.99555, ...  \n",
       "1  POINT (8.37754 48.98666)  POLYGON ((8.44582 48.98763, 8.44563 48.98322, ...  \n",
       "2  POINT (8.40212 48.95010)  POLYGON ((8.47035 48.95106, 8.47016 48.94665, ...  \n",
       "3  POINT (8.35345 48.99722)  POLYGON ((8.42174 48.99820, 8.42156 48.99379, ...  \n",
       "4  POINT (9.10157 49.00583)  POLYGON ((9.16989 49.00636, 9.16964 49.00195, ...  "
      ]
     },
     "execution_count": 98,
     "metadata": {},
     "output_type": "execute_result"
    }
   ],
   "source": [
    "# change the projection of the data so the buffer can be inputted as meters/km\n",
    "# buffer of 5000m (5km)\n",
    "kindergartens['buffer'] = kindergartens['geometry'].to_crs(epsg=3035).buffer(5000).to_crs(epsg=4171)\n",
    "kindergartens.head()\n"
   ]
  },
  {
   "cell_type": "code",
   "execution_count": 99,
   "metadata": {},
   "outputs": [
    {
     "name": "stderr",
     "output_type": "stream",
     "text": [
      "c:\\Users\\nelek\\anaconda3\\lib\\site-packages\\geopandas\\geodataframe.py:1443: SettingWithCopyWarning: \n",
      "A value is trying to be set on a copy of a slice from a DataFrame.\n",
      "Try using .loc[row_indexer,col_indexer] = value instead\n",
      "\n",
      "See the caveats in the documentation: https://pandas.pydata.org/pandas-docs/stable/user_guide/indexing.html#returning-a-view-versus-a-copy\n",
      "  super().__setitem__(key, value)\n"
     ]
    }
   ],
   "source": [
    "# build subsets\n",
    "k = kindergartens\n",
    "g = gridData[0:200]\n",
    "\n",
    "# add new empty columns to dataframes\n",
    "k[\"sum_children\"] = 0\n",
    "\n",
    "k[\"sum_total_population\"] = 0\n",
    "\n",
    "k[\"grid_cell_IDs_in_buffer\"] = [[] for _ in range(len(k))]\n",
    "\n",
    "g[\"nr_kiga_in_reach\"] = 0\n",
    "\n",
    "g[\"kiga_IDs_in_reach\"] =  [[] for _ in range(len(g))]\n"
   ]
  },
  {
   "cell_type": "code",
   "execution_count": 103,
   "metadata": {},
   "outputs": [
    {
     "data": {
      "text/html": [
       "<div>\n",
       "<style scoped>\n",
       "    .dataframe tbody tr th:only-of-type {\n",
       "        vertical-align: middle;\n",
       "    }\n",
       "\n",
       "    .dataframe tbody tr th {\n",
       "        vertical-align: top;\n",
       "    }\n",
       "\n",
       "    .dataframe thead th {\n",
       "        text-align: right;\n",
       "    }\n",
       "</style>\n",
       "<table border=\"1\" class=\"dataframe\">\n",
       "  <thead>\n",
       "    <tr style=\"text-align: right;\">\n",
       "      <th></th>\n",
       "      <th>id</th>\n",
       "      <th>amenity</th>\n",
       "      <th>name</th>\n",
       "      <th>geometry</th>\n",
       "      <th>buffer</th>\n",
       "      <th>sum_children</th>\n",
       "      <th>sum_total_population</th>\n",
       "      <th>grid_cell_IDs_in_buffer</th>\n",
       "    </tr>\n",
       "  </thead>\n",
       "  <tbody>\n",
       "    <tr>\n",
       "      <th>0</th>\n",
       "      <td>node/25236153</td>\n",
       "      <td>kindergarten</td>\n",
       "      <td>Kindertagesstätte Pittiplatsch</td>\n",
       "      <td>POINT (8.40817 48.99901)</td>\n",
       "      <td>POLYGON ((8.47647 48.99996, 8.47627 48.99555, ...</td>\n",
       "      <td>0</td>\n",
       "      <td>0</td>\n",
       "      <td>[]</td>\n",
       "    </tr>\n",
       "    <tr>\n",
       "      <th>1</th>\n",
       "      <td>node/25243038</td>\n",
       "      <td>kindergarten</td>\n",
       "      <td>Kindergarten</td>\n",
       "      <td>POINT (8.37754 48.98666)</td>\n",
       "      <td>POLYGON ((8.44582 48.98763, 8.44563 48.98322, ...</td>\n",
       "      <td>0</td>\n",
       "      <td>0</td>\n",
       "      <td>[]</td>\n",
       "    </tr>\n",
       "    <tr>\n",
       "      <th>2</th>\n",
       "      <td>node/29793990</td>\n",
       "      <td>kindergarten</td>\n",
       "      <td>AWO-Kindertagesstätte Wiesenzwerg</td>\n",
       "      <td>POINT (8.40212 48.95010)</td>\n",
       "      <td>POLYGON ((8.47035 48.95106, 8.47016 48.94665, ...</td>\n",
       "      <td>0</td>\n",
       "      <td>0</td>\n",
       "      <td>[]</td>\n",
       "    </tr>\n",
       "    <tr>\n",
       "      <th>3</th>\n",
       "      <td>node/98071320</td>\n",
       "      <td>kindergarten</td>\n",
       "      <td>Kindertagesstätte Bernstein</td>\n",
       "      <td>POINT (8.35345 48.99722)</td>\n",
       "      <td>POLYGON ((8.42174 48.99820, 8.42156 48.99379, ...</td>\n",
       "      <td>0</td>\n",
       "      <td>0</td>\n",
       "      <td>[]</td>\n",
       "    </tr>\n",
       "    <tr>\n",
       "      <th>4</th>\n",
       "      <td>node/107597357</td>\n",
       "      <td>kindergarten</td>\n",
       "      <td>Birkenweg</td>\n",
       "      <td>POINT (9.10157 49.00583)</td>\n",
       "      <td>POLYGON ((9.16989 49.00636, 9.16964 49.00195, ...</td>\n",
       "      <td>0</td>\n",
       "      <td>0</td>\n",
       "      <td>[]</td>\n",
       "    </tr>\n",
       "  </tbody>\n",
       "</table>\n",
       "</div>"
      ],
      "text/plain": [
       "               id       amenity                               name  \\\n",
       "0   node/25236153  kindergarten     Kindertagesstätte Pittiplatsch   \n",
       "1   node/25243038  kindergarten                       Kindergarten   \n",
       "2   node/29793990  kindergarten  AWO-Kindertagesstätte Wiesenzwerg   \n",
       "3   node/98071320  kindergarten        Kindertagesstätte Bernstein   \n",
       "4  node/107597357  kindergarten                          Birkenweg   \n",
       "\n",
       "                   geometry  \\\n",
       "0  POINT (8.40817 48.99901)   \n",
       "1  POINT (8.37754 48.98666)   \n",
       "2  POINT (8.40212 48.95010)   \n",
       "3  POINT (8.35345 48.99722)   \n",
       "4  POINT (9.10157 49.00583)   \n",
       "\n",
       "                                              buffer  sum_children  \\\n",
       "0  POLYGON ((8.47647 48.99996, 8.47627 48.99555, ...             0   \n",
       "1  POLYGON ((8.44582 48.98763, 8.44563 48.98322, ...             0   \n",
       "2  POLYGON ((8.47035 48.95106, 8.47016 48.94665, ...             0   \n",
       "3  POLYGON ((8.42174 48.99820, 8.42156 48.99379, ...             0   \n",
       "4  POLYGON ((9.16989 49.00636, 9.16964 49.00195, ...             0   \n",
       "\n",
       "   sum_total_population grid_cell_IDs_in_buffer  \n",
       "0                     0                      []  \n",
       "1                     0                      []  \n",
       "2                     0                      []  \n",
       "3                     0                      []  \n",
       "4                     0                      []  "
      ]
     },
     "execution_count": 103,
     "metadata": {},
     "output_type": "execute_result"
    }
   ],
   "source": [
    "k.head()"
   ]
  },
  {
   "cell_type": "code",
   "execution_count": 104,
   "metadata": {},
   "outputs": [
    {
     "data": {
      "text/html": [
       "<div>\n",
       "<style scoped>\n",
       "    .dataframe tbody tr th:only-of-type {\n",
       "        vertical-align: middle;\n",
       "    }\n",
       "\n",
       "    .dataframe tbody tr th {\n",
       "        vertical-align: top;\n",
       "    }\n",
       "\n",
       "    .dataframe thead th {\n",
       "        text-align: right;\n",
       "    }\n",
       "</style>\n",
       "<table border=\"1\" class=\"dataframe\">\n",
       "  <thead>\n",
       "    <tr style=\"text-align: right;\">\n",
       "      <th></th>\n",
       "      <th>ID_1km</th>\n",
       "      <th>ALTER_10JG</th>\n",
       "      <th>INSGESAMT</th>\n",
       "      <th>geometry</th>\n",
       "      <th>nr_kiga_in_reach</th>\n",
       "      <th>kiga_IDs_in_reach</th>\n",
       "    </tr>\n",
       "  </thead>\n",
       "  <tbody>\n",
       "    <tr>\n",
       "      <th>0</th>\n",
       "      <td>1kmN2716E4145</td>\n",
       "      <td>3.0</td>\n",
       "      <td>14.0</td>\n",
       "      <td>POLYGON ((7.66372 47.53262, 7.66331 47.54161, ...</td>\n",
       "      <td>1</td>\n",
       "      <td>[node/1614778817]</td>\n",
       "    </tr>\n",
       "    <tr>\n",
       "      <th>1</th>\n",
       "      <td>1kmN2716E4146</td>\n",
       "      <td>52.0</td>\n",
       "      <td>351.0</td>\n",
       "      <td>POLYGON ((7.67699 47.53290, 7.67658 47.54190, ...</td>\n",
       "      <td>2</td>\n",
       "      <td>[node/1614778817, way/148502012]</td>\n",
       "    </tr>\n",
       "    <tr>\n",
       "      <th>2</th>\n",
       "      <td>1kmN2716E4147</td>\n",
       "      <td>31.0</td>\n",
       "      <td>161.0</td>\n",
       "      <td>POLYGON ((7.69025 47.53318, 7.68985 47.54218, ...</td>\n",
       "      <td>0</td>\n",
       "      <td>[]</td>\n",
       "    </tr>\n",
       "    <tr>\n",
       "      <th>3</th>\n",
       "      <td>1kmN2716E4148</td>\n",
       "      <td>21.0</td>\n",
       "      <td>109.0</td>\n",
       "      <td>POLYGON ((7.70352 47.53346, 7.70312 47.54246, ...</td>\n",
       "      <td>3</td>\n",
       "      <td>[node/309885883, way/126171180, way/126171181]</td>\n",
       "    </tr>\n",
       "    <tr>\n",
       "      <th>4</th>\n",
       "      <td>1kmN2717E4143</td>\n",
       "      <td>0.0</td>\n",
       "      <td>0.0</td>\n",
       "      <td>POLYGON ((7.63678 47.54104, 7.63636 47.55004, ...</td>\n",
       "      <td>4</td>\n",
       "      <td>[way/102724057, way/107104065, way/107106174, ...</td>\n",
       "    </tr>\n",
       "  </tbody>\n",
       "</table>\n",
       "</div>"
      ],
      "text/plain": [
       "          ID_1km  ALTER_10JG  INSGESAMT  \\\n",
       "0  1kmN2716E4145         3.0       14.0   \n",
       "1  1kmN2716E4146        52.0      351.0   \n",
       "2  1kmN2716E4147        31.0      161.0   \n",
       "3  1kmN2716E4148        21.0      109.0   \n",
       "4  1kmN2717E4143         0.0        0.0   \n",
       "\n",
       "                                            geometry  nr_kiga_in_reach  \\\n",
       "0  POLYGON ((7.66372 47.53262, 7.66331 47.54161, ...                 1   \n",
       "1  POLYGON ((7.67699 47.53290, 7.67658 47.54190, ...                 2   \n",
       "2  POLYGON ((7.69025 47.53318, 7.68985 47.54218, ...                 0   \n",
       "3  POLYGON ((7.70352 47.53346, 7.70312 47.54246, ...                 3   \n",
       "4  POLYGON ((7.63678 47.54104, 7.63636 47.55004, ...                 4   \n",
       "\n",
       "                                   kiga_IDs_in_reach  \n",
       "0                                  [node/1614778817]  \n",
       "1                   [node/1614778817, way/148502012]  \n",
       "2                                                 []  \n",
       "3     [node/309885883, way/126171180, way/126171181]  \n",
       "4  [way/102724057, way/107104065, way/107106174, ...  "
      ]
     },
     "execution_count": 104,
     "metadata": {},
     "output_type": "execute_result"
    }
   ],
   "source": [
    "g.head()\n",
    "#print(g.iloc[0, 3])"
   ]
  },
  {
   "cell_type": "code",
   "execution_count": 102,
   "metadata": {},
   "outputs": [
    {
     "data": {
      "application/vnd.jupyter.widget-view+json": {
       "model_id": "19bccf5e748c4fe8ad8e5d6396fe2195",
       "version_major": 2,
       "version_minor": 0
      },
      "text/plain": [
       "0it [00:00, ?it/s]"
      ]
     },
     "metadata": {},
     "output_type": "display_data"
    },
    {
     "name": "stderr",
     "output_type": "stream",
     "text": [
      "c:\\Users\\nelek\\anaconda3\\lib\\site-packages\\pandas\\core\\indexing.py:1817: SettingWithCopyWarning: \n",
      "A value is trying to be set on a copy of a slice from a DataFrame.\n",
      "Try using .loc[row_indexer,col_indexer] = value instead\n",
      "\n",
      "See the caveats in the documentation: https://pandas.pydata.org/pandas-docs/stable/user_guide/indexing.html#returning-a-view-versus-a-copy\n",
      "  self._setitem_single_column(loc, value, pi)\n"
     ]
    }
   ],
   "source": [
    "# look for grid-polygons that lie in the buffer zone\n",
    "# iterrows is too slow?!\n",
    "\n",
    "for index1, row1 in tqdm(k.iterrows()):\n",
    "    \n",
    "    for index2, row2 in g.iterrows():\n",
    "        \n",
    "        if(row2[3].overlaps(row1[4])):\n",
    "            # sum_children for each kindergarten-buffer\n",
    "            k.iloc[index1, 5] =  row1[5] + row2[1]\n",
    "\n",
    "            # sum_total_population for each kindergarten-buffer\n",
    "            k.iloc[index1, 6] = row1[6] + row2[2]\n",
    "\n",
    "            # grid_cell_IDs_in_buffer (add all grid-cell-IDs that are in each kindergarten buffer)\n",
    "            if row2[0] not in row1[7]:\n",
    "                 k.iloc[index1, 7].append(row2[0])\n",
    "            \n",
    "            # nr_kiga_in_reach of each grid-cell\n",
    "            g.iloc[index2, 4] += 1\n",
    "\n",
    "            # kiga_IDs_in_reach (all kindergarten-IDs in reach of the grid-cell)\n",
    "            if row1[0] not in row2[5]:\n",
    "                g.iloc[index2, 5].append(row1[0])"
   ]
  },
  {
   "cell_type": "code",
   "execution_count": 108,
   "metadata": {},
   "outputs": [
    {
     "data": {
      "text/plain": [
       "array([  0,   3, 167,  86,  23, 120,  37, 124,  93,   6,  42,  43,  46,\n",
       "       371, 284,  22,  17,  45, 272,  75, 104], dtype=int64)"
      ]
     },
     "execution_count": 108,
     "metadata": {},
     "output_type": "execute_result"
    }
   ],
   "source": [
    "k[\"sum_children\"].unique()"
   ]
  },
  {
   "cell_type": "code",
   "execution_count": 106,
   "metadata": {},
   "outputs": [
    {
     "data": {
      "text/plain": [
       "array([ 1,  2,  0,  3,  4,  5,  8,  7, 10, 12,  6,  9, 15, 11, 14, 16, 17,\n",
       "       13], dtype=int64)"
      ]
     },
     "execution_count": 106,
     "metadata": {},
     "output_type": "execute_result"
    }
   ],
   "source": [
    "g[\"nr_kiga_in_reach\"].unique()"
   ]
  },
  {
   "cell_type": "code",
   "execution_count": null,
   "metadata": {},
   "outputs": [],
   "source": [
    "k.to_file(r'C:\\Users\\nelek\\OneDrive\\Dokumente\\Uni\\Master\\3. Semester\\GIS\\Project\\kindergartens_final.geojson', driver='GeoJSON')"
   ]
  },
  {
   "cell_type": "code",
   "execution_count": null,
   "metadata": {},
   "outputs": [],
   "source": [
    "g.to_file(r'C:\\Users\\nelek\\OneDrive\\Dokumente\\Uni\\Master\\3. Semester\\GIS\\Project\\gridData_final.geojson', driver='GeoJSON')"
   ]
  }
 ],
 "metadata": {
  "kernelspec": {
   "display_name": "base",
   "language": "python",
   "name": "python3"
  },
  "language_info": {
   "codemirror_mode": {
    "name": "ipython",
    "version": 3
   },
   "file_extension": ".py",
   "mimetype": "text/x-python",
   "name": "python",
   "nbconvert_exporter": "python",
   "pygments_lexer": "ipython3",
   "version": "3.9.7"
  },
  "orig_nbformat": 4,
  "vscode": {
   "interpreter": {
    "hash": "7b38cab46b95352bf0f3d219c6618e35db98e272c8488be532da06736c1cffe1"
   }
  }
 },
 "nbformat": 4,
 "nbformat_minor": 2
}
