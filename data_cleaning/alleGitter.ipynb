{
 "cells": [
  {
   "attachments": {},
   "cell_type": "markdown",
   "metadata": {},
   "source": [
    "# Combining all 100m Cells with Population from Baden Württemberg"
   ]
  },
  {
   "cell_type": "code",
   "execution_count": 2,
   "metadata": {},
   "outputs": [],
   "source": [
    "import pandas as pd \n",
    "import os\n",
    "import geopandas as gpd\n",
    "import matplotlib as plt"
   ]
  },
  {
   "attachments": {},
   "cell_type": "markdown",
   "metadata": {},
   "source": [
    "The function drops unnecessary colums. \n",
    "The ags colum includes the Gemeindeschlüssel and can be used to filter all what is included in Baden Württemberg as its Gemeindeschlüssel starts with 08"
   ]
  },
  {
   "cell_type": "code",
   "execution_count": 3,
   "metadata": {},
   "outputs": [],
   "source": [
    "def umwandeln(name):\n",
    "    file = gpd.read_file(name)\n",
    "    file.drop([\"f_staat\", \"f_land\", \"f_wasser\", \"p_staat\", \"p_land\", \"p_wasser\"], axis = 1, inplace= True)\n",
    "    file[\"ags\"] = file[\"ags\"].astype(str)\n",
    "    file = file[file['ags'].str.startswith(\"08\")]\n",
    "    file[\"ags\"] = file[\"ags\"].astype(object)\n",
    "    return file"
   ]
  },
  {
   "cell_type": "code",
   "execution_count": 4,
   "metadata": {},
   "outputs": [],
   "source": [
    "os.chdir(\"/Users/sophi/Documents/GIS/DE_Grid_ETRS89-LAEA_100m_shp/geogitter\")"
   ]
  },
  {
   "attachments": {},
   "cell_type": "markdown",
   "metadata": {},
   "source": [
    "Applying it to all Shapefiles"
   ]
  },
  {
   "cell_type": "code",
   "execution_count": 5,
   "metadata": {},
   "outputs": [],
   "source": [
    "N27E41 = umwandeln(\"100kmN27E41_DE_Grid_ETRS89-LAEA_100m.shp\")"
   ]
  },
  {
   "cell_type": "code",
   "execution_count": 6,
   "metadata": {},
   "outputs": [],
   "source": [
    "N27E42 = umwandeln(\"100kmN27E42_DE_Grid_ETRS89-LAEA_100m.shp\")"
   ]
  },
  {
   "cell_type": "code",
   "execution_count": 7,
   "metadata": {},
   "outputs": [],
   "source": [
    "N27E43 = umwandeln(\"100kmN27E43_DE_Grid_ETRS89-LAEA_100m.shp\")"
   ]
  },
  {
   "cell_type": "code",
   "execution_count": 8,
   "metadata": {},
   "outputs": [],
   "source": [
    "N28E41 = umwandeln(\"100kmN28E41_DE_Grid_ETRS89-LAEA_100m.shp\")"
   ]
  },
  {
   "cell_type": "code",
   "execution_count": 9,
   "metadata": {},
   "outputs": [],
   "source": [
    "N28E42 = umwandeln(\"100kmN28E42_DE_Grid_ETRS89-LAEA_100m.shp\")"
   ]
  },
  {
   "cell_type": "code",
   "execution_count": 10,
   "metadata": {},
   "outputs": [],
   "source": [
    "N28E43 = umwandeln(\"100kmN28E43_DE_Grid_ETRS89-LAEA_100m.shp\")"
   ]
  },
  {
   "cell_type": "code",
   "execution_count": 11,
   "metadata": {},
   "outputs": [],
   "source": [
    "N28E40 = umwandeln(\"100kmN28E40_DE_Grid_ETRS89-LAEA_100m.shp\")"
   ]
  },
  {
   "cell_type": "code",
   "execution_count": 12,
   "metadata": {},
   "outputs": [],
   "source": [
    "N29E40 = umwandeln(\"100kmN29E40_DE_Grid_ETRS89-LAEA_100m.shp\")"
   ]
  },
  {
   "cell_type": "code",
   "execution_count": 14,
   "metadata": {},
   "outputs": [],
   "source": [
    "N29E41 = umwandeln(\"100kmN29E41_DE_Grid_ETRS89-LAEA_100m.shp\")"
   ]
  },
  {
   "cell_type": "code",
   "execution_count": 15,
   "metadata": {},
   "outputs": [],
   "source": [
    "N29E42 = umwandeln(\"100kmN29E42_DE_Grid_ETRS89-LAEA_100m.shp\")"
   ]
  },
  {
   "cell_type": "code",
   "execution_count": 16,
   "metadata": {},
   "outputs": [],
   "source": [
    "N29E43 = umwandeln(\"100kmN29E43_DE_Grid_ETRS89-LAEA_100m.shp\")"
   ]
  },
  {
   "cell_type": "code",
   "execution_count": 17,
   "metadata": {},
   "outputs": [],
   "source": [
    "N30E41 = umwandeln(\"100kmN30E41_DE_Grid_ETRS89-LAEA_100m.shp\")"
   ]
  },
  {
   "cell_type": "code",
   "execution_count": 18,
   "metadata": {},
   "outputs": [],
   "source": [
    "gitterList = [N27E41, N27E42, N27E43,N28E40,  N28E41, N28E42, N28E43, N29E40, N29E41, N29E42, N29E43]"
   ]
  },
  {
   "attachments": {},
   "cell_type": "markdown",
   "metadata": {},
   "source": [
    "Combining all Gitters"
   ]
  },
  {
   "cell_type": "code",
   "execution_count": 19,
   "metadata": {},
   "outputs": [],
   "source": [
    "gitter = pd.concat(gitterList)"
   ]
  },
  {
   "cell_type": "code",
   "execution_count": 20,
   "metadata": {},
   "outputs": [
    {
     "data": {
      "text/html": [
       "<div>\n",
       "<style scoped>\n",
       "    .dataframe tbody tr th:only-of-type {\n",
       "        vertical-align: middle;\n",
       "    }\n",
       "\n",
       "    .dataframe tbody tr th {\n",
       "        vertical-align: top;\n",
       "    }\n",
       "\n",
       "    .dataframe thead th {\n",
       "        text-align: right;\n",
       "    }\n",
       "</style>\n",
       "<table border=\"1\" class=\"dataframe\">\n",
       "  <thead>\n",
       "    <tr style=\"text-align: right;\">\n",
       "      <th></th>\n",
       "      <th>id</th>\n",
       "      <th>x_sw</th>\n",
       "      <th>y_sw</th>\n",
       "      <th>x_mp</th>\n",
       "      <th>y_mp</th>\n",
       "      <th>ags</th>\n",
       "      <th>geometry</th>\n",
       "    </tr>\n",
       "  </thead>\n",
       "  <tbody>\n",
       "    <tr>\n",
       "      <th>0</th>\n",
       "      <td>100mN27159E41461</td>\n",
       "      <td>4146100.0</td>\n",
       "      <td>2715900.0</td>\n",
       "      <td>4146150.0</td>\n",
       "      <td>2715950.0</td>\n",
       "      <td>08336105</td>\n",
       "      <td>POLYGON ((4146100.000 2715900.000, 4146100.000...</td>\n",
       "    </tr>\n",
       "    <tr>\n",
       "      <th>1</th>\n",
       "      <td>100mN27159E41462</td>\n",
       "      <td>4146200.0</td>\n",
       "      <td>2715900.0</td>\n",
       "      <td>4146250.0</td>\n",
       "      <td>2715950.0</td>\n",
       "      <td>08336105</td>\n",
       "      <td>POLYGON ((4146200.000 2715900.000, 4146200.000...</td>\n",
       "    </tr>\n",
       "    <tr>\n",
       "      <th>2</th>\n",
       "      <td>100mN27159E41463</td>\n",
       "      <td>4146300.0</td>\n",
       "      <td>2715900.0</td>\n",
       "      <td>4146350.0</td>\n",
       "      <td>2715950.0</td>\n",
       "      <td>08336105</td>\n",
       "      <td>POLYGON ((4146300.000 2715900.000, 4146300.000...</td>\n",
       "    </tr>\n",
       "    <tr>\n",
       "      <th>3</th>\n",
       "      <td>100mN27159E41464</td>\n",
       "      <td>4146400.0</td>\n",
       "      <td>2715900.0</td>\n",
       "      <td>4146450.0</td>\n",
       "      <td>2715950.0</td>\n",
       "      <td>08336105</td>\n",
       "      <td>POLYGON ((4146400.000 2715900.000, 4146400.000...</td>\n",
       "    </tr>\n",
       "    <tr>\n",
       "      <th>4</th>\n",
       "      <td>100mN27159E41465</td>\n",
       "      <td>4146500.0</td>\n",
       "      <td>2715900.0</td>\n",
       "      <td>4146550.0</td>\n",
       "      <td>2715950.0</td>\n",
       "      <td>08336105</td>\n",
       "      <td>POLYGON ((4146500.000 2715900.000, 4146500.000...</td>\n",
       "    </tr>\n",
       "  </tbody>\n",
       "</table>\n",
       "</div>"
      ],
      "text/plain": [
       "                 id       x_sw       y_sw       x_mp       y_mp       ags  \\\n",
       "0  100mN27159E41461  4146100.0  2715900.0  4146150.0  2715950.0  08336105   \n",
       "1  100mN27159E41462  4146200.0  2715900.0  4146250.0  2715950.0  08336105   \n",
       "2  100mN27159E41463  4146300.0  2715900.0  4146350.0  2715950.0  08336105   \n",
       "3  100mN27159E41464  4146400.0  2715900.0  4146450.0  2715950.0  08336105   \n",
       "4  100mN27159E41465  4146500.0  2715900.0  4146550.0  2715950.0  08336105   \n",
       "\n",
       "                                            geometry  \n",
       "0  POLYGON ((4146100.000 2715900.000, 4146100.000...  \n",
       "1  POLYGON ((4146200.000 2715900.000, 4146200.000...  \n",
       "2  POLYGON ((4146300.000 2715900.000, 4146300.000...  \n",
       "3  POLYGON ((4146400.000 2715900.000, 4146400.000...  \n",
       "4  POLYGON ((4146500.000 2715900.000, 4146500.000...  "
      ]
     },
     "execution_count": 20,
     "metadata": {},
     "output_type": "execute_result"
    }
   ],
   "source": [
    "gitter.head()"
   ]
  },
  {
   "attachments": {},
   "cell_type": "markdown",
   "metadata": {},
   "source": [
    "## Merging the the population data"
   ]
  },
  {
   "attachments": {},
   "cell_type": "markdown",
   "metadata": {},
   "source": [
    "This data was prepared in Bev100m.ipynb"
   ]
  },
  {
   "cell_type": "code",
   "execution_count": 21,
   "metadata": {},
   "outputs": [],
   "source": [
    "os.chdir(\"/Users/sophi/Documents/GIS\")\n",
    "bev = pd.read_csv(\"BevKidsT.csv\")"
   ]
  },
  {
   "cell_type": "code",
   "execution_count": 22,
   "metadata": {},
   "outputs": [
    {
     "data": {
      "text/html": [
       "<div>\n",
       "<style scoped>\n",
       "    .dataframe tbody tr th:only-of-type {\n",
       "        vertical-align: middle;\n",
       "    }\n",
       "\n",
       "    .dataframe tbody tr th {\n",
       "        vertical-align: top;\n",
       "    }\n",
       "\n",
       "    .dataframe thead th {\n",
       "        text-align: right;\n",
       "    }\n",
       "</style>\n",
       "<table border=\"1\" class=\"dataframe\">\n",
       "  <thead>\n",
       "    <tr style=\"text-align: right;\">\n",
       "      <th></th>\n",
       "      <th>id</th>\n",
       "      <th>x_sw</th>\n",
       "      <th>y_sw</th>\n",
       "      <th>x_mp</th>\n",
       "      <th>y_mp</th>\n",
       "      <th>ags</th>\n",
       "      <th>geometry</th>\n",
       "      <th>INSGESAMT</th>\n",
       "      <th>ALTER_10JG</th>\n",
       "    </tr>\n",
       "  </thead>\n",
       "  <tbody>\n",
       "    <tr>\n",
       "      <th>0</th>\n",
       "      <td>100mN27159E41461</td>\n",
       "      <td>4146100.0</td>\n",
       "      <td>2715900.0</td>\n",
       "      <td>4146150.0</td>\n",
       "      <td>2715950.0</td>\n",
       "      <td>08336105</td>\n",
       "      <td>POLYGON ((4146100.000 2715900.000, 4146100.000...</td>\n",
       "      <td>NaN</td>\n",
       "      <td>NaN</td>\n",
       "    </tr>\n",
       "    <tr>\n",
       "      <th>1</th>\n",
       "      <td>100mN27159E41462</td>\n",
       "      <td>4146200.0</td>\n",
       "      <td>2715900.0</td>\n",
       "      <td>4146250.0</td>\n",
       "      <td>2715950.0</td>\n",
       "      <td>08336105</td>\n",
       "      <td>POLYGON ((4146200.000 2715900.000, 4146200.000...</td>\n",
       "      <td>NaN</td>\n",
       "      <td>NaN</td>\n",
       "    </tr>\n",
       "    <tr>\n",
       "      <th>2</th>\n",
       "      <td>100mN27159E41463</td>\n",
       "      <td>4146300.0</td>\n",
       "      <td>2715900.0</td>\n",
       "      <td>4146350.0</td>\n",
       "      <td>2715950.0</td>\n",
       "      <td>08336105</td>\n",
       "      <td>POLYGON ((4146300.000 2715900.000, 4146300.000...</td>\n",
       "      <td>NaN</td>\n",
       "      <td>NaN</td>\n",
       "    </tr>\n",
       "    <tr>\n",
       "      <th>3</th>\n",
       "      <td>100mN27159E41464</td>\n",
       "      <td>4146400.0</td>\n",
       "      <td>2715900.0</td>\n",
       "      <td>4146450.0</td>\n",
       "      <td>2715950.0</td>\n",
       "      <td>08336105</td>\n",
       "      <td>POLYGON ((4146400.000 2715900.000, 4146400.000...</td>\n",
       "      <td>NaN</td>\n",
       "      <td>NaN</td>\n",
       "    </tr>\n",
       "    <tr>\n",
       "      <th>4</th>\n",
       "      <td>100mN27159E41465</td>\n",
       "      <td>4146500.0</td>\n",
       "      <td>2715900.0</td>\n",
       "      <td>4146550.0</td>\n",
       "      <td>2715950.0</td>\n",
       "      <td>08336105</td>\n",
       "      <td>POLYGON ((4146500.000 2715900.000, 4146500.000...</td>\n",
       "      <td>NaN</td>\n",
       "      <td>NaN</td>\n",
       "    </tr>\n",
       "  </tbody>\n",
       "</table>\n",
       "</div>"
      ],
      "text/plain": [
       "                 id       x_sw       y_sw       x_mp       y_mp       ags  \\\n",
       "0  100mN27159E41461  4146100.0  2715900.0  4146150.0  2715950.0  08336105   \n",
       "1  100mN27159E41462  4146200.0  2715900.0  4146250.0  2715950.0  08336105   \n",
       "2  100mN27159E41463  4146300.0  2715900.0  4146350.0  2715950.0  08336105   \n",
       "3  100mN27159E41464  4146400.0  2715900.0  4146450.0  2715950.0  08336105   \n",
       "4  100mN27159E41465  4146500.0  2715900.0  4146550.0  2715950.0  08336105   \n",
       "\n",
       "                                            geometry  INSGESAMT  ALTER_10JG  \n",
       "0  POLYGON ((4146100.000 2715900.000, 4146100.000...        NaN         NaN  \n",
       "1  POLYGON ((4146200.000 2715900.000, 4146200.000...        NaN         NaN  \n",
       "2  POLYGON ((4146300.000 2715900.000, 4146300.000...        NaN         NaN  \n",
       "3  POLYGON ((4146400.000 2715900.000, 4146400.000...        NaN         NaN  \n",
       "4  POLYGON ((4146500.000 2715900.000, 4146500.000...        NaN         NaN  "
      ]
     },
     "execution_count": 22,
     "metadata": {},
     "output_type": "execute_result"
    }
   ],
   "source": [
    "df = gitter.merge(bev, left_on= \"id\", right_on = \"Gitter_ID_100m\", how = \"left\" )\n",
    "df.drop(\"Gitter_ID_100m\", axis=1, inplace=True)\n",
    "df.head()"
   ]
  },
  {
   "attachments": {},
   "cell_type": "markdown",
   "metadata": {},
   "source": [
    "### descriptive Statistics and a Plot"
   ]
  },
  {
   "cell_type": "code",
   "execution_count": 28,
   "metadata": {},
   "outputs": [
    {
     "data": {
      "text/plain": [
       "count    349829.000000\n",
       "mean         30.000786\n",
       "std          34.509589\n",
       "min           3.000000\n",
       "25%           7.000000\n",
       "50%          20.000000\n",
       "75%          40.000000\n",
       "max        1010.000000\n",
       "Name: INSGESAMT, dtype: float64"
      ]
     },
     "execution_count": 28,
     "metadata": {},
     "output_type": "execute_result"
    }
   ],
   "source": [
    "df[\"INSGESAMT\"].describe()"
   ]
  },
  {
   "cell_type": "code",
   "execution_count": 23,
   "metadata": {},
   "outputs": [
    {
     "data": {
      "text/plain": [
       "<AxesSubplot: >"
      ]
     },
     "execution_count": 23,
     "metadata": {},
     "output_type": "execute_result"
    },
    {
     "data": {
      "image/png": "[encoded data removed]",
      "text/plain": [
       "<Figure size 640x480 with 2 Axes>"
      ]
     },
     "metadata": {},
     "output_type": "display_data"
    }
   ],
   "source": [
    "df.plot(column= \"INSGESAMT\",legend=True)"
   ]
  },
  {
   "cell_type": "code",
   "execution_count": 26,
   "metadata": {},
   "outputs": [],
   "source": [
    "df.to_csv(\"bevBw.csv\")"
   ]
  }
 ],
 "metadata": {
  "kernelspec": {
   "display_name": "Python 3",
   "language": "python",
   "name": "python3"
  },
  "language_info": {
   "codemirror_mode": {
    "name": "ipython",
    "version": 3
   },
   "file_extension": ".py",
   "mimetype": "text/x-python",
   "name": "python",
   "nbconvert_exporter": "python",
   "pygments_lexer": "ipython3",
   "version": "3.11.1"
  },
  "orig_nbformat": 4,
  "vscode": {
   "interpreter": {
    "hash": "aee8b7b246df8f9039afb4144a1f6fd8d2ca17a180786b69acc140d282b71a49"
   }
  }
 },
 "nbformat": 4,
 "nbformat_minor": 2
}
